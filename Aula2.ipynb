{
  "nbformat": 4,
  "nbformat_minor": 0,
  "metadata": {
    "colab": {
      "provenance": [],
      "collapsed_sections": [],
      "authorship_tag": "ABX9TyO9RmHYQsomn5QWPDI4S3G/",
      "include_colab_link": true
    },
    "kernelspec": {
      "name": "python3",
      "display_name": "Python 3"
    },
    "language_info": {
      "name": "python"
    }
  },
  "cells": [
    {
      "cell_type": "markdown",
      "metadata": {
        "id": "view-in-github",
        "colab_type": "text"
      },
      "source": [
        "<a href=\"https://colab.research.google.com/github/rfernandezpr/CursoPython/blob/main/Aula2.ipynb\" target=\"_parent\"><img src=\"https://colab.research.google.com/assets/colab-badge.svg\" alt=\"Open In Colab\"/></a>"
      ]
    },
    {
      "cell_type": "code",
      "source": [
        "boas_vindas()"
      ],
      "metadata": {
        "colab": {
          "base_uri": "https://localhost:8080/"
        },
        "id": "TO4LheqkrowH",
        "outputId": "4d9a66b1-e5db-427d-f2ac-523181ac908a"
      },
      "execution_count": 25,
      "outputs": [
        {
          "output_type": "stream",
          "name": "stdout",
          "text": [
            "Aluno, Seja bem vindo ao curso de python\n"
          ]
        }
      ]
    },
    {
      "cell_type": "code",
      "source": [
        "#funções\n",
        "def boas_vindas():\n",
        "  print('Bem vindo ao curso de python')\n",
        "\n",
        "def boas_vindas(aluno):\n",
        "  print(f'{aluno} Bem vindo ao curso de python')\n",
        "\n",
        "def boas_vindas(aluno='Aluno'):\n",
        "  print(f'{aluno}, Seja bem vindo ao curso de python')\n",
        "\n"
      ],
      "metadata": {
        "id": "UcqT9eixqye0"
      },
      "execution_count": 23,
      "outputs": []
    },
    {
      "cell_type": "code",
      "source": [
        "soma = 0\n",
        "materias = ['Português','Matematica','Ingles','Historia']\n",
        "for materia in materias:\n",
        "  nota = float(input(f'Qual é a nota do Aluno em {materia}? '))\n",
        "  soma = soma + nota\n",
        "\n",
        "media = soma / 4\n",
        "\n",
        "print(f'A media do aluno é de {media}')\n"
      ],
      "metadata": {
        "colab": {
          "base_uri": "https://localhost:8080/"
        },
        "id": "wEsGIjJmo_3F",
        "outputId": "c4b47e4f-af03-48f6-ad4b-cd2a8cdaaf23"
      },
      "execution_count": 16,
      "outputs": [
        {
          "output_type": "stream",
          "name": "stdout",
          "text": [
            "Qual é a nota do Aluno em Português? 4\n",
            "Qual é a nota do Aluno em Matematica? 8\n",
            "Qual é a nota do Aluno em Ingles? 7\n",
            "Qual é a nota do Aluno em Historia? 5\n",
            "A media do aluno é de 6.0\n"
          ]
        }
      ]
    },
    {
      "cell_type": "code",
      "source": [
        "#lista\n",
        "lista = [2,3,'abc',10.189]\n",
        "type(lista)\n",
        "for elemento in lista:\n",
        "  print(elemento)\n",
        "  "
      ],
      "metadata": {
        "colab": {
          "base_uri": "https://localhost:8080/"
        },
        "id": "avFOe5D-nhZQ",
        "outputId": "c90be773-58b9-41ca-d5b2-b7e110da8500"
      },
      "execution_count": 15,
      "outputs": [
        {
          "output_type": "stream",
          "name": "stdout",
          "text": [
            "2\n",
            "3\n",
            "abc\n",
            "10.189\n"
          ]
        }
      ]
    },
    {
      "cell_type": "code",
      "source": [
        "a = 0\n",
        "while a < 2:\n",
        "  print(f'O valor de a={a}')\n",
        "  a = a + 1\n"
      ],
      "metadata": {
        "colab": {
          "base_uri": "https://localhost:8080/"
        },
        "id": "a2quwCzImQ6D",
        "outputId": "07a18582-3377-4327-8e9b-71175e6cee05"
      },
      "execution_count": 12,
      "outputs": [
        {
          "output_type": "stream",
          "name": "stdout",
          "text": [
            "O valor de a=0\n",
            "O valor de a=1\n"
          ]
        }
      ]
    },
    {
      "cell_type": "code",
      "source": [
        "peso = float(input('peso (kg)?'))\n",
        "estatura = float(input('altura (mts)?'))\n",
        "imc = peso / (estatura ** 2) \n",
        "if imc < 18.5:\n",
        "  print('abaixo do peso')\n",
        "elif imc < 25:\n",
        "  print('peso normal')\n",
        "elif imc < 30:\n",
        "  print('sobre peso')\n",
        "elif imc < 35:\n",
        "  print('Obesidade de grau 1')\n",
        "elif imc < 40:\n",
        "  print('Obesidade de grau 2')\n",
        "else:\n",
        "  print('Obesidade de grau 3 ou Morbida')\n",
        "  "
      ],
      "metadata": {
        "colab": {
          "base_uri": "https://localhost:8080/"
        },
        "id": "oQSXeNeQif80",
        "outputId": "9eb8c426-fb5d-4e08-a4df-701bc11c57e3"
      },
      "execution_count": 11,
      "outputs": [
        {
          "output_type": "stream",
          "name": "stdout",
          "text": [
            "peso (kg)?103\n",
            "altura (mts)?1.80\n",
            "Obesidade de grau 1\n"
          ]
        }
      ]
    },
    {
      "cell_type": "code",
      "source": [],
      "metadata": {
        "id": "QK1qItAxhWXp"
      },
      "execution_count": null,
      "outputs": []
    },
    {
      "cell_type": "code",
      "source": [
        "idade = int(input('Qual é sua idade?'))\n",
        "if idade < 12:\n",
        "  print('criança')\n",
        "elif idade < 18:\n",
        "  print('adolescente')\n",
        "elif idade < 25:\n",
        "  print('jovem')\n",
        "else:\n",
        "  print('adulto')"
      ],
      "metadata": {
        "colab": {
          "base_uri": "https://localhost:8080/"
        },
        "outputId": "002d3177-8989-43ae-8c2b-4ec1af8b74af",
        "id": "DLsxz6_YhhkH"
      },
      "execution_count": 8,
      "outputs": [
        {
          "output_type": "stream",
          "name": "stdout",
          "text": [
            "Qual é sua idade?8\n",
            "criança\n"
          ]
        }
      ]
    },
    {
      "cell_type": "code",
      "source": [
        "idade = int(input('Qual é sua idade?'))\n",
        "if idade >= 18:\n",
        "  print('você é maior de idade')\n",
        "else:\n",
        "  print('você é menor de idade')"
      ],
      "metadata": {
        "colab": {
          "base_uri": "https://localhost:8080/"
        },
        "id": "_hG6TuEJgDS2",
        "outputId": "faf70801-9da2-45c1-8d8c-215a8a0c5762"
      },
      "execution_count": 7,
      "outputs": [
        {
          "output_type": "stream",
          "name": "stdout",
          "text": [
            "Qual é sua idade?15\n",
            "você é menor de idade\n"
          ]
        }
      ]
    },
    {
      "cell_type": "code",
      "execution_count": null,
      "metadata": {
        "id": "LJWZsaZrRxli"
      },
      "outputs": [],
      "source": [
        "x=1\n",
        "if x==1:\n",
        "  print('comandos_si')\n",
        "else:\n",
        "  print('comandos_no')\n"
      ]
    }
  ]
}